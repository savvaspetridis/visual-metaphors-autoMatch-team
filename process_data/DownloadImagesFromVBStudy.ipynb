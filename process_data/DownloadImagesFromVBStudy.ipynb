{
 "cells": [
  {
   "cell_type": "code",
   "execution_count": 19,
   "metadata": {},
   "outputs": [],
   "source": [
    "import bson\n",
    "a = bson.dumps({\"A\":[1,2,3,4,5,\"6\", u\"7\", {\"C\":u\"DS\"}]})\n",
    "b = bson.loads(a)\n",
    "b\n",
    "import pprint as pp"
   ]
  },
  {
   "cell_type": "code",
   "execution_count": 14,
   "metadata": {},
   "outputs": [],
   "source": [
    "dumps_location = '~/workspace/visual-metaphors-autoMatch-team/dumps/2018_3_30_joes_night/meteor'"
   ]
  },
  {
   "cell_type": "code",
   "execution_count": 6,
   "metadata": {},
   "outputs": [
    {
     "name": "stdout",
     "output_type": "stream",
     "text": [
      "\u001b[34m2017-09-07-savvas\u001b[m\u001b[m              \u001b[34m2017-09-19-savvas\u001b[m\u001b[m\r\n",
      "\u001b[34m2017-09-14-katy\u001b[m\u001b[m                \u001b[34m2018_3_28_cu_snowday\u001b[m\u001b[m\r\n",
      "\u001b[34m2017-09-14-katy-fixed\u001b[m\u001b[m          \u001b[34m2018_3_29_women_cs_hands_smart\u001b[m\u001b[m\r\n",
      "\u001b[34m2017-09-15-alon\u001b[m\u001b[m                \u001b[34m2018_3_30_football_dangerous\u001b[m\u001b[m\r\n",
      "\u001b[34m2017-09-15-erica\u001b[m\u001b[m               \u001b[34m2018_3_30_joes_night\u001b[m\u001b[m\r\n",
      "\u001b[34m2017-09-15-ishan\u001b[m\u001b[m\r\n"
     ]
    }
   ],
   "source": [
    "!ls ../dumps"
   ]
  },
  {
   "cell_type": "code",
   "execution_count": 7,
   "metadata": {},
   "outputs": [
    {
     "name": "stdout",
     "output_type": "stream",
     "text": [
      "/Users/lydiachilton/workspace/visual-metaphors-autoMatch-team/process_data\r\n"
     ]
    }
   ],
   "source": [
    "!pwd"
   ]
  },
  {
   "cell_type": "code",
   "execution_count": 26,
   "metadata": {},
   "outputs": [
    {
     "name": "stdout",
     "output_type": "stream",
     "text": [
      "Brainstorm1.bson\r\n",
      "Brainstorm1.metadata.json\r\n",
      "Brainstorm2.bson\r\n",
      "Brainstorm2.metadata.json\r\n",
      "Completion.bson\r\n",
      "Completion.metadata.json\r\n",
      "ConceptNames.bson\r\n",
      "ConceptNames.metadata.json\r\n",
      "Images1.bson\r\n",
      "Images1.metadata.json\r\n",
      "Images2.bson\r\n",
      "Images2.metadata.json\r\n",
      "Images2Brainstorm.bson\r\n",
      "Images2Brainstorm.metadata.json\r\n",
      "MetaphorPairs.bson\r\n",
      "MetaphorPairs.metadata.json\r\n",
      "MixCanvases.bson\r\n",
      "MixCanvases.metadata.json\r\n",
      "Pairs.bson\r\n",
      "Pairs.metadata.json\r\n",
      "meteor_accounts_loginServiceConfiguration.bson\r\n",
      "meteor_accounts_loginServiceConfiguration.metadata.json\r\n",
      "users.bson\r\n",
      "users.metadata.json\r\n"
     ]
    }
   ],
   "source": [
    "!ls $dumps_location"
   ]
  },
  {
   "cell_type": "code",
   "execution_count": 51,
   "metadata": {},
   "outputs": [
    {
     "name": "stdout",
     "output_type": "stream",
     "text": [
      "{'_id': 'KNAQadefGCJMQR539',\n",
      " 'canvas_data': '{\"objects\":[{\"type\":\"circle\",\"originX\":\"left\",\"originY\":\"top\",\"left\":30,\"top\":10,\"width\":80,\"height\":80,\"fill\":\"rgba(255,0,0,.5)\",\"stroke\":null,\"strokeWidth\":1,\"strokeDashArray\":null,\"strokeLineCap\":\"butt\",\"strokeLineJoin\":\"miter\",\"strokeMiterLimit\":10,\"scaleX\":1,\"scaleY\":1,\"angle\":0,\"flipX\":false,\"flipY\":false,\"opacity\":1,\"shadow\":null,\"visible\":true,\"clipTo\":null,\"backgroundColor\":\"\",\"fillRule\":\"nonzero\",\"globalCompositeOperation\":\"source-over\",\"transformMatrix\":null,\"skewX\":0,\"skewY\":0,\"radius\":40,\"startAngle\":0,\"endAngle\":6.283185307179586},{\"type\":\"rect\",\"originX\":\"left\",\"originY\":\"top\",\"left\":17,\"top\":179,\"width\":80,\"height\":60,\"fill\":\"rgba(0,200,0,0.5)\",\"stroke\":null,\"strokeWidth\":1,\"strokeDashArray\":null,\"strokeLineCap\":\"butt\",\"strokeLineJoin\":\"miter\",\"strokeMiterLimit\":10,\"scaleX\":3.28,\"scaleY\":2.16,\"angle\":0,\"flipX\":false,\"flipY\":false,\"opacity\":1,\"shadow\":null,\"visible\":true,\"clipTo\":null,\"backgroundColor\":\"\",\"fillRule\":\"nonzero\",\"globalCompositeOperation\":\"source-over\",\"transformMatrix\":null,\"skewX\":0,\"skewY\":0,\"rx\":0,\"ry\":0}],\"background\":\"\",\"backgroundImage\":{\"type\":\"image\",\"originX\":\"left\",\"originY\":\"top\",\"left\":0,\"top\":100,\"width\":343,\"height\":294,\"fill\":\"rgb(0,0,0)\",\"stroke\":null,\"strokeWidth\":0,\"strokeDashArray\":null,\"strokeLineCap\":\"butt\",\"strokeLineJoin\":\"miter\",\"strokeMiterLimit\":10,\"scaleX\":0.87,\"scaleY\":0.87,\"angle\":0,\"flipX\":false,\"flipY\":false,\"opacity\":1,\"shadow\":null,\"visible\":true,\"clipTo\":null,\"backgroundColor\":\"\",\"fillRule\":\"nonzero\",\"globalCompositeOperation\":\"source-over\",\"transformMatrix\":null,\"skewX\":0,\"skewY\":0,\"src\":\"https://womeninscienceatcolumbia.files.wordpress.com/2014/05/columbia-crown.jpg\",\"filters\":[],\"resizeFilters\":[],\"crossOrigin\":\"\",\"alignX\":\"none\",\"alignY\":\"none\",\"meetOrSlice\":\"meet\"}}',\n",
      " 'complexity': 'part',\n",
      " 'concept': 'Columbia',\n",
      " 'createdBy': 'gpF6aX6sHbKhCAbr8',\n",
      " 'drawnShape': 'rect',\n",
      " 'shape': 'rectangle',\n",
      " 'timestamp': 1522246867330.0,\n",
      " 'url': 'https://womeninscienceatcolumbia.files.wordpress.com/2014/05/columbia-crown.jpg'}\n"
     ]
    }
   ],
   "source": [
    "# THIS ISN'T WORKING. I can't read in more than one image :(\n",
    "images1_bson=\"../dumps/2018_3_30_joes_night/meteor/Images1.bson\"\n",
    "data = open(images1_bson,'rb').read()\n",
    "len(data)\n",
    "json_data = bson.loads(data)\n",
    "len(json_data)\n",
    "pp.pprint(json_data)"
   ]
  },
  {
   "cell_type": "code",
   "execution_count": 54,
   "metadata": {},
   "outputs": [
    {
     "name": "stdout",
     "output_type": "stream",
     "text": [
      "https://womeninscienceatcolumbia.files.wordpress.com/2014/05/columbia-crown.jpg\n",
      "https://images-na.ssl-images-amazon.com/images/I/61R5-p7d7%2BL.jpg\n",
      "https://images-na.ssl-images-amazon.com/images/I/51xawhh9G2L._SL500_AC_SS350_.jpg\n",
      "https://img.offcampusimages.com/rJkuZWfeZKiHDYHAe67aVvwuCnY=/960x440/left/top/smart/images/srwt2qycoviihbwovmhykfb8iubojc9n0ds4jbmxo6a.jpeg\n",
      "http://cdn3.bigcommerce.com/s-sgmj9vtsnt/products/330/images/1144/shorts_1-7__48346.1492792690.450.675.jpg?c=2\n",
      "https://upload.wikimedia.org/wikipedia/commons/thumb/6/61/Hamilton_statue_at_Columbia_University_IMG_0958_closeup.jpg/150px-Hamilton_statue_at_Columbia_University_IMG_0958_closeup.jpg\n",
      "https://imagesvc.timeincapp.com/v3/mm/image?url=https%3A%2F%2Fewedit.files.wordpress.com%2F2015%2F01%2Ftomsdiner_l.jpg%3Fw%3D320&w=700&q=85\n",
      "https://pbs.twimg.com/profile_images/511986203248168961/FnwsWiRw_400x400.jpeg\n",
      "https://upload.wikimedia.org/wikipedia/commons/b/b7/Columbia_University%2C_Low_Library%2C_Manhattan%2C_Nov_2013.jpg\n",
      "https://i.pinimg.com/originals/fd/51/52/fd5152030a1e34259b76d3efac0905fe.jpg\n",
      "https://images-na.ssl-images-amazon.com/images/I/41c3TApkhHL._SX322_BO1,204,203,200_.jpg\n",
      "http://publiclibrariesonline.org/wp-content/uploads/2016/11/old-books.png\n",
      "http://gs.columbia.edu/postbac/files/postbac/crown-desktop-icon_1.png\n",
      "https://pbs.twimg.com/profile_images/815205598274977792/T06GGo8d_400x400.jpg\n",
      "https://pbs.twimg.com/profile_images/815205598274977792/T06GGo8d_400x400.jpg\n",
      "https://img.leafcdn.tv/640/clsd/getty/c5b53d6f854944a1bc622843470d51f0\n",
      "http://s966.info/library/h/hanging-white-towels/hanging-white-towels-01.jpg\n",
      "https://cdn2.bigcommerce.com/server2000/21933/products/365/images/1071/xl_sb_eco__71845.1397672770.220.220.jpg?c=2\n",
      "https://www.blanco-germany.com/media/media/20_bam_medien/00_bilder_1/produkte_7/armaturen_9/atura/ATURA_Image2_Text2_Image2.jpg\n",
      "https://www.americanstandard-us.com/-/media/sites/asus/images/products/bathroom-sink-faucets/townsend-hight-arc-widespread/7353801002-townsend-high-arc-widespread-bathroom-faucet.png\n",
      "https://www.signaturehardware.com/media/catalog/product/cache/1/image/1500x/9df78eab33525d08d6e5fb8d27136e95/3/2/329683-large-metal-cross-handles-chrome.jpg\n",
      "https://www.factorydirecthardware.com/images/D/elizabethan_classics_ECCS03_CP.jpg\n",
      "https://static1.squarespace.com/static/545a7d88e4b04f070d4b2270/t/58203a29579fb3dc4512ddae/1478809256168/p_tall.png\n",
      "https://images-na.ssl-images-amazon.com/images/I/31c8uoRoQAL.jpg\n",
      "https://architecturedsgn.com/wp-content/uploads/2018/01/camberley-tap-hole-full-pedestal-basin-mm-from-of-bathroom-layout-in-vanity-from-toilet-sink-top-view-of-bathroom-layout-in-vanity-ceramic.jpg\n",
      "https://images-na.ssl-images-amazon.com/images/I/71GPe9TQQjL._SL1500_.jpg\n",
      "https://www.italtile.co.za/media/catalog/product/cache/1/image/9df78eab33525d08d6e5fb8d27136e95/i/m/image_1735.jpg\n",
      "https://static.grainger.com/rp/s/is/image/Grainger/3FPN5_AS01?$mdmain$\n",
      "https://watercurrents.uark.edu/files/2018/02/Water-image_Dreamstime-1w3ou2j.jpg\n",
      "https://www.peakprosperity.com/sites/default/files/content/article/article-photo/blowing-bubbles-small-113406397_1.jpg\n",
      "https://images-na.ssl-images-amazon.com/images/I/31c8uoRoQAL.jpg\n",
      "https://www.signaturehardware.com/media/catalog/product/cache/1/image/1500x/9df78eab33525d08d6e5fb8d27136e95/3/2/329683-large-metal-cross-handles-chrome.jpg\n",
      "http://i0.kym-cdn.com/photos/images/original/001/107/042/309.jpg\n",
      "https://www.chargrilled.co.uk/t-shirts/prodimages/staticimages/square/m0schrodingerscatbox_m_White.jpg\n",
      "http://www.askamathematician.com/wp-content/uploads/2013/04/cat.jpg\n",
      "https://i.guim.co.uk/img/static/sys-images/Admin/BkFill/Default_image_group/2010/10/22/1287766225600/Death-of-Socrates-David-006.jpg?w=1200&h=630&q=55&auto=format&usm=12&fit=crop&crop=faces%2Centropy&bm=normal&ba=bottom%2Cleft&blend64=aHR0cHM6Ly91cGxvYWRzLmd1aW0uY28udWsvMjAxOC8wMS8zMS9mYWNlYm9va19kZWZhdWx0LnBuZw&s=9f6db9a8f806a3a0099dc76295c23bbc\n",
      "http://www.votaws.com/dvotaw/wp-content/uploads/2014/10/scales.png\n",
      "http://3.bp.blogspot.com/-mG6rFLlg1iw/Tudg9PayK0I/AAAAAAAAMuc/nKx1gMSjgYo/s1600/Chinese+room+experiment.jpg\n",
      "https://i.pinimg.com/originals/e3/d4/44/e3d4440a329ec1a6d6d0891a5baef63d.png\n",
      "https://i.pinimg.com/originals/9d/59/7e/9d597e03af51438ed23a65337610a3db.jpg\n",
      "http://www.tropicalmba.com/wp-content/uploads/2012/02/Panopticon2222.jpg\n",
      "https://gloimg.twkcdn.com/td/pdm-product-pic/Clothing/2016/08/29/goods-img/1517364096799581545.jpg\n",
      "https://images-na.ssl-images-amazon.com/images/I/61XE3rek%2BBL._UL1500_.jpg\n",
      "https://www.maccosmetics.com/media/export/cms/products/640x600/mac_sku_S7P004_640x600_0.jpg\n",
      "https://i.ebayimg.com/images/g/tFUAAOSwm8VUtabX/s-l300.jpg\n",
      "http://cdn.shopify.com/s/files/1/1038/6230/products/everpurse_kate_spade_iphone_charging_black_small_harmony_standing_edit_3_grande.jpg?v=1488838840\n",
      "https://upload.wikimedia.org/wikipedia/commons/8/8d/Marilyn_Monroe_photo_pose_Seven_Year_Itch.jpg\n",
      "https://upload.wikimedia.org/wikipedia/commons/thumb/6/66/Venus_symbol.svg/2000px-Venus_symbol.svg.png\n",
      "https://upload.wikimedia.org/wikipedia/commons/thumb/1/16/Hair_ties.jpg/220px-Hair_ties.jpg\n",
      "https://images-na.ssl-images-amazon.com/images/I/61XE3rek%2BBL._UL1500_.jpg\n",
      "http://www.clker.com/cliparts/L/o/n/4/W/o/female-symbol.svg\n",
      "https://images-na.ssl-images-amazon.com/images/I/51A42yqVo2L._SL500_AC_SS350_.jpg\n",
      "https://www.opi.com/sites/default/files/styles/product_image_large/public/MyChihuahuaBites_NL_M21.jpg?itok=5961LJ3l\n",
      "https://img.leafcdn.tv/640/cpie/images/a02/3j/1j/treat-dark-circles-slices-cucumbers-800x800.jpg\n",
      "https://static.myfigurecollection.net/pics/figure/big/617200.jpg\n",
      "https://images-na.ssl-images-amazon.com/images/I/61Rvvs8lliL._UY395_.jpg\n",
      "https://cdn.childrensalon.com/media/catalog/product/cache/0/small_image/256x256/9df78eab33525d08d6e5fb8d27136e95/b/o/bowtique-london-pink-bow-hair-clip-20cm-192364-2202dc02635bb559ff129b26c6d748d26fdd5e36.jpg\n",
      "https://i.pinimg.com/736x/c3/0b/95/c30b9570dc69e19d0f15f8c6ccd904a2--etienne-aigner-its-ok.jpg\n",
      "https://m.maccosmetics.com/media/export/cms/products/640x600/mac_sku_M55K38_640x600_1.jpg\n",
      "http://www.makeup.com/-/media/images/makeup/2018/february/9-best-eye-shadow-video-tutorials/makeupcompostgraphicshero2besteyeshadowvideotutorials2918.jpg\n",
      "https://fimgs.net/images/perfume/375x500.609.jpg\n",
      "https://www.maccosmetics.com/media/export/cms/products/640x600/mac_sku_S7P004_640x600_0.jpg\n",
      "https://www.opi.com/sites/default/files/styles/product_image_large/public/MyChihuahuaBites_NL_M21.jpg?itok=5961LJ3l\n",
      "https://i.pinimg.com/736x/03/0e/36/030e363fdf647bdea730054175a2fe6d--bandana-hair-hair-ties.jpg\n",
      "https://www.woojr.com/wp-content/uploads/2009/10/amelia-earhart-picture.jpg\n",
      "https://www.wpclipart.com/clothes/makeup/makeup_compact.png\n",
      "https://s7d2.scene7.com/is/image/dkscdn/16RIDYCSTMSPDYTHHFTA_is/?$DSG_ProductCard$\n",
      "https://www.polyvore.com/cgi/img-thing?.out=jpg&size=l&tid=53235153\n",
      "http://1hfll3cu1zc3dhl5w3idlrda.wpengine.netdna-cdn.com/wp-content/uploads/2016/06/playbook-e1467329266755.jpg\n",
      "https://images-na.ssl-images-amazon.com/images/I/81DBe4NVTiL._SL1500_.jpg\n",
      "https://assets.academy.com/mgen/22/10644722.jpg\n",
      "https://s7d2.scene7.com/is/image/dkscdn/16ELSUVRSHLDDBLMTTHR_Black_Red_is\n",
      "http://di.shotfarm.com/img/12006?src=10145_FOREST_GRN.png\n",
      "https://i.ytimg.com/vi/bvDc78C_5gU/hqdefault.jpg\n",
      "https://assets.academy.com/mgen/02/10250802.jpg\n",
      "https://s7d2.scene7.com/is/image/dkscdn/16RIDYVCTRNFLTYTHFTA_White_is/\n",
      "https://www.electro-mech.com/scoreboard-images/lx3250.png\n",
      "http://thumbs1.ebaystatic.com/d/l225/m/m5Az03b2qfU0ZRwAfjJz_bw.jpg\n",
      "https://encrypted-tbn0.gstatic.com/images?q=tbn:ANd9GcTRSFG-Ofg6dckZJwf0URWbtzNhN6rJoIzKCFdtX2fyNbe-b6_t\n",
      "https://cdn3.iconfinder.com/data/icons/american-football/361/Quarterback-512.png\n",
      "https://pbs.twimg.com/media/Bt5C1nTCQAAw602.jpg\n",
      "https://lf.lids.com/hwl?set=sku[20888377],c[2],w[1000],h[750]&call=url[file:product]\n",
      "http://www.burrcole.com/wp-content/uploads/IMG_0916.jpg\n",
      "https://media.wired.com/photos/5a73bd3cf88b291d44f4f88d/master/pass/superbowltrophy-912767456.jpg\n",
      "https://engineering.dartmouth.edu/images/uploads/MVP_IEEE.jpg\n",
      "http://pennappetit.com/wp-content/uploads/2013/09/joes.jpg\n",
      "https://s3-media1.fl.yelpcdn.com/bphoto/GnYSnm6EfUtcVrj8w9atYA/348s.jpg\n",
      "https://www.ikea.com/PIAimages/0417311_PE579389_S5.JPG\n",
      "http://331mrnu3ylm2k3db3s1xd1hg.wpengine.netdna-cdn.com/wp-content/uploads/2014/07/joe-coffee-paper-cup.jpg\n",
      "https://igx.4sqi.net/img/general/200x200/7370_puCkL-Qsh5op6r-EcbU5ud93nzi_8qIaYOMkWCRRsDo.jpg\n",
      "https://pbs.twimg.com/media/DY5oLFqWsAEjcWG.jpg\n",
      "https://images-na.ssl-images-amazon.com/images/I/61DFW0RJVxL._SL1500_.jpg\n",
      "http://www.stickpng.com/assets/images/580b57fbd9996e24bc43c0f3.png\n",
      "https://cdn.shopify.com/s/files/1/0268/4059/products/Gift_Card_1024x1024.jpg?v=1511628385\n",
      "http://uploads.edubilla.com/inventions/04/fc/Sugarpacket3.png\n",
      "https://www.landolakes.com/lolretail/media/LOLR-Media/products/LOL_HH_TradQT_Rich_2_13_HdOn-800.png?ext=.png\n",
      "https://images.adsttc.com/media/images/5007/2f6b/28ba/0d41/4800/14bd/medium_jpg/stringio.jpg?1414446490\n",
      "https://asda.scene7.com/is/image/Asda/5054070280423?hei=532&wid=910&qlt=85&fmt=pjpg&resmode=sharp&op_usm=1.1,0.5,0,0&defaultimage=default_details_George_rd\n",
      "https://www.thegoodguys.com.au/wcsstore/TGGCAS/idcplg?IdcService=GET_FILE&RevisionSelectionMethod=LatestReleased&noSaveAs=1&dDocName=50032511_516180&Rendition=ZOOMIMAGE\n",
      "http://boogiemart.com/wp-content/uploads/photo-gallery/coffee_machine_espresso.jpg\n",
      "https://img-new.cgtrader.com/items/708173/2f4dfd5de4/coffee-bean-3d-model-max-obj-fbx-mtl.jpg\n",
      "https://d17u1h4pee53w6.cloudfront.net/products/1000/stainless-soup-spoon.jpg\n",
      "https://images-na.ssl-images-amazon.com/images/I/31yGwAdOF7L._SX342_.jpg\n",
      "https://asda.scene7.com/is/image/Asda/5054070280423?hei=532&wid=910&qlt=85&fmt=pjpg&resmode=sharp&op_usm=1.1,0.5,0,0&defaultimage=default_details_George_rd\n",
      "https://s3-media1.fl.yelpcdn.com/bphoto/GnYSnm6EfUtcVrj8w9atYA/348s.jpg\n",
      "http://pennappetit.com/wp-content/uploads/2013/09/joes.jpg\n",
      "https://d17u1h4pee53w6.cloudfront.net/products/1000/stainless-soup-spoon.jpg\n",
      "https://pbs.twimg.com/media/DY5oLFqWsAEjcWG.jpg\n"
     ]
    }
   ],
   "source": [
    "import json\n",
    "from pprint import pprint\n",
    "\n",
    "with open('images1.json') as f:\n",
    "    data = json.load(f)\n",
    "\n",
    "#pprint(data)\n",
    "\n",
    "for d in data:\n",
    "    print(d['url'])\n"
   ]
  },
  {
   "cell_type": "code",
   "execution_count": 56,
   "metadata": {
    "scrolled": true
   },
   "outputs": [
    {
     "ename": "ModuleNotFoundError",
     "evalue": "No module named 'urllib2'",
     "output_type": "error",
     "traceback": [
      "\u001b[0;31m---------------------------------------------------------------------------\u001b[0m",
      "\u001b[0;31mModuleNotFoundError\u001b[0m                       Traceback (most recent call last)",
      "\u001b[0;32m<ipython-input-56-72b100695b61>\u001b[0m in \u001b[0;36m<module>\u001b[0;34m()\u001b[0m\n\u001b[0;32m----> 1\u001b[0;31m \u001b[0;32mimport\u001b[0m \u001b[0murllib2\u001b[0m\u001b[0;34m\u001b[0m\u001b[0m\n\u001b[0m\u001b[1;32m      2\u001b[0m \u001b[0mf\u001b[0m \u001b[0;34m=\u001b[0m \u001b[0mopen\u001b[0m\u001b[0;34m(\u001b[0m\u001b[0;34m'00000001.jpg'\u001b[0m\u001b[0;34m,\u001b[0m\u001b[0;34m'wb'\u001b[0m\u001b[0;34m)\u001b[0m\u001b[0;34m\u001b[0m\u001b[0m\n\u001b[1;32m      3\u001b[0m \u001b[0mf\u001b[0m\u001b[0;34m.\u001b[0m\u001b[0mwrite\u001b[0m\u001b[0;34m(\u001b[0m\u001b[0murllib\u001b[0m\u001b[0;34m.\u001b[0m\u001b[0murlopen\u001b[0m\u001b[0;34m(\u001b[0m\u001b[0;34m'https://images-na.ssl-images-amazon.com/images/I/71GPe9TQQjL._SL1500_.jpg'\u001b[0m\u001b[0;34m)\u001b[0m\u001b[0;34m.\u001b[0m\u001b[0mread\u001b[0m\u001b[0;34m(\u001b[0m\u001b[0;34m)\u001b[0m\u001b[0;34m)\u001b[0m\u001b[0;34m\u001b[0m\u001b[0m\n\u001b[1;32m      4\u001b[0m \u001b[0mf\u001b[0m\u001b[0;34m.\u001b[0m\u001b[0mclose\u001b[0m\u001b[0;34m(\u001b[0m\u001b[0;34m)\u001b[0m\u001b[0;34m\u001b[0m\u001b[0m\n",
      "\u001b[0;31mModuleNotFoundError\u001b[0m: No module named 'urllib2'"
     ]
    }
   ],
   "source": [
    "import urllib2\n",
    "f = open('00000001.jpg','wb')\n",
    "f.write(urllib.urlopen('https://images-na.ssl-images-amazon.com/images/I/71GPe9TQQjL._SL1500_.jpg').read())\n",
    "f.close()"
   ]
  },
  {
   "cell_type": "code",
   "execution_count": 80,
   "metadata": {},
   "outputs": [],
   "source": [
    "import urllib.request\n",
    "import re\n",
    "def write_img_to_file(url, folder):\n",
    "    try:\n",
    "        with urllib.request.urlopen(url) as response:\n",
    "            img = response.read()\n",
    "            url_safe = re.sub('[^0-9a-zA-Z]+', '__', url)\n",
    "            if len(url_safe)>200:\n",
    "                url_safe = url_safe[200:]\n",
    "            f = open(folder+'/'+url_safe,'wb')\n",
    "            f.write(img)\n",
    "            f.close()\n",
    "    except urllib.error.URLError as e:\n",
    "        print(url)\n",
    "        print(e.reason)\n",
    "        "
   ]
  },
  {
   "cell_type": "code",
   "execution_count": 68,
   "metadata": {},
   "outputs": [],
   "source": [
    "#url1 = 'https://images-na.ssl-images-amazon.com/images/I/71GPe9TQQjL._SL1500_.jpg'\n",
    "write_img_to_file(url, 'downloaded_images')"
   ]
  },
  {
   "cell_type": "code",
   "execution_count": 85,
   "metadata": {},
   "outputs": [
    {
     "name": "stdout",
     "output_type": "stream",
     "text": [
      "i =  0\n",
      "i =  1\n",
      "i =  2\n",
      "i =  3\n",
      "i =  4\n",
      "i =  5\n",
      "i =  6\n",
      "i =  7\n",
      "i =  8\n",
      "i =  9\n",
      "i =  10\n",
      "i =  11\n",
      "i =  12\n",
      "i =  13\n",
      "i =  14\n",
      "i =  15\n",
      "i =  16\n",
      "i =  17\n",
      "i =  18\n",
      "i =  19\n",
      "i =  20\n",
      "i =  21\n",
      "i =  22\n",
      "i =  23\n",
      "i =  24\n",
      "i =  25\n",
      "i =  26\n",
      "i =  27\n",
      "i =  28\n",
      "i =  29\n",
      "i =  30\n",
      "i =  31\n",
      "i =  32\n",
      "i =  33\n",
      "i =  34\n",
      "i =  35\n",
      "i =  36\n",
      "i =  37\n",
      "i =  38\n",
      "i =  39\n",
      "i =  40\n",
      "i =  41\n",
      "i =  42\n",
      "i =  43\n",
      "i =  44\n",
      "i =  45\n",
      "i =  46\n",
      "i =  47\n",
      "i =  48\n",
      "i =  49\n",
      "i =  50\n",
      "i =  51\n",
      "i =  52\n",
      "i =  53\n",
      "i =  54\n",
      "i =  55\n",
      "i =  56\n",
      "i =  57\n",
      "i =  58\n",
      "i =  59\n",
      "i =  60\n",
      "i =  61\n",
      "i =  62\n",
      "i =  63\n",
      "i =  64\n",
      "i =  65\n",
      "i =  66\n",
      "i =  67\n",
      "i =  68\n",
      "i =  69\n",
      "i =  70\n",
      "i =  71\n",
      "i =  72\n",
      "i =  73\n",
      "i =  74\n",
      "i =  75\n",
      "i =  76\n",
      "i =  77\n",
      "i =  78\n",
      "i =  79\n",
      "i =  80\n",
      "i =  81\n",
      "i =  82\n",
      "i =  83\n",
      "i =  84\n",
      "i =  85\n",
      "i =  86\n",
      "i =  87\n",
      "i =  88\n",
      "http://331mrnu3ylm2k3db3s1xd1hg.wpengine.netdna-cdn.com/wp-content/uploads/2014/07/joe-coffee-paper-cup.jpg\n",
      "Forbidden\n",
      "i =  89\n",
      "i =  90\n",
      "i =  91\n",
      "i =  92\n",
      "i =  93\n",
      "i =  94\n",
      "i =  95\n",
      "i =  96\n",
      "i =  97\n",
      "i =  98\n",
      "i =  99\n",
      "i =  100\n",
      "i =  101\n",
      "i =  102\n",
      "i =  103\n",
      "i =  104\n",
      "i =  105\n",
      "i =  106\n",
      "i =  107\n"
     ]
    }
   ],
   "source": [
    "\n",
    "i = 0\n",
    "for d in data:\n",
    "    print(\"i = \",i)\n",
    "    i +=1\n",
    "    url = d['url']\n",
    "    if i>82:\n",
    "        write_img_to_file(url, 'downloaded_images')"
   ]
  },
  {
   "cell_type": "code",
   "execution_count": 73,
   "metadata": {},
   "outputs": [
    {
     "data": {
      "text/plain": [
       "411"
      ]
     },
     "execution_count": 73,
     "metadata": {},
     "output_type": "execute_result"
    }
   ],
   "source": [
    "asdf = \"downloaded_images/https__i__guim__co__uk__img__static__sys__images__Admin__BkFill__Default__image__group__2010__10__22__1287766225600__Death__of__Socrates__David__006__jpg__w__1200__h__630__q__55__auto__format__usm__12__fit__crop__crop__faces__2Centropy__bm__normal__ba__bottom__2Cleft__blend64__aHR0cHM6Ly91cGxvYWRzLmd1aW0uY28udWsvMjAxOC8wMS8zMS9mYWNlYm9va19kZWZhdWx0LnBuZw__s__9f6db9a8f806a3a0099dc76295c23bbc\"\n",
    "len(asdf)"
   ]
  },
  {
   "cell_type": "code",
   "execution_count": 75,
   "metadata": {},
   "outputs": [
    {
     "data": {
      "text/plain": [
       "'roup__2010__10__22__1287766225600__Death__of__Socrates__David__006__jpg__w__1200__h__630__q__55__auto__format__usm__12__fit__crop__crop__faces__2Centropy__bm__normal__ba__bottom__2Cleft__blend64__aHR0cHM6Ly91cGxvYWRzLmd1aW0uY28udWsvMjAxOC8wMS8zMS9mYWNlYm9va19kZWZhdWx0LnBuZw__s__9f6db9a8f806a3a0099dc76295c23bbc'"
      ]
     },
     "execution_count": 75,
     "metadata": {},
     "output_type": "execute_result"
    }
   ],
   "source": [
    "asdf[100:]"
   ]
  },
  {
   "cell_type": "code",
   "execution_count": 86,
   "metadata": {},
   "outputs": [],
   "source": [
    "with open('images2.json') as f:\n",
    "    data2 = json.load(f)"
   ]
  },
  {
   "cell_type": "code",
   "execution_count": 88,
   "metadata": {},
   "outputs": [
    {
     "name": "stdout",
     "output_type": "stream",
     "text": [
      "i =  0\n",
      "i =  1\n",
      "i =  2\n",
      "i =  3\n",
      "i =  4\n",
      "i =  5\n",
      "i =  6\n",
      "i =  7\n",
      "i =  8\n",
      "http://www.distillerytrail.com/wp-content/uploads/2016/01/Oreo-Coffee-Hot-Chocolate-Side.jpg\n",
      "Forbidden\n",
      "i =  9\n",
      "i =  10\n",
      "i =  11\n",
      "i =  12\n",
      "i =  13\n",
      "i =  14\n",
      "i =  15\n",
      "i =  16\n",
      "i =  17\n",
      "i =  18\n",
      "i =  19\n",
      "i =  20\n",
      "i =  21\n",
      "https://store.metmuseum.org/content/ebiz/themetstore/invt/80010981/80010981_01_l.jpg\n",
      "Not Found\n",
      "i =  22\n",
      "i =  23\n",
      "i =  24\n",
      "i =  25\n",
      "i =  26\n",
      "i =  27\n",
      "i =  28\n",
      "https://media.eotica.com.br/catalog/product/cache/1/image/9df78eab33525d08d6e5fb8d27136e95/o/a/oakley-fenceline-satin-pavement-1.jpg\n",
      "Forbidden\n",
      "i =  29\n",
      "i =  30\n",
      "i =  31\n",
      "https://inhabitat.com/files/sfxmastrees02.gif\n",
      "Forbidden\n",
      "i =  32\n",
      "i =  33\n",
      "i =  34\n",
      "http://www.otpls.org/wp-content/uploads/2016/11/milk-and-cookies-with-santa.jpg\n",
      "Not Found\n",
      "i =  35\n",
      "i =  36\n",
      "https://www.rocketcitymom.com/wp-content/uploads/2014/11/santa_moon_reindeer.jpg\n",
      "Forbidden\n",
      "i =  37\n",
      "i =  38\n",
      "i =  39\n",
      "i =  40\n",
      "i =  41\n",
      "i =  42\n",
      "i =  43\n",
      "i =  44\n",
      "i =  45\n",
      "i =  46\n",
      "i =  47\n",
      "https://gloimg.gbtcdn.com/gb/pdm-product-pic/Electronic/2017/09/16/goods-img/1505671792049523306.JPG\n",
      "Forbidden\n",
      "i =  48\n",
      "i =  49\n",
      "i =  50\n",
      "i =  51\n",
      "i =  52\n",
      "i =  53\n",
      "i =  54\n",
      "i =  55\n",
      "i =  56\n",
      "i =  57\n",
      "i =  58\n",
      "i =  59\n",
      "i =  60\n",
      "i =  61\n",
      "i =  62\n",
      "i =  63\n",
      "i =  64\n",
      "i =  65\n",
      "i =  66\n",
      "i =  67\n",
      "i =  68\n",
      "i =  69\n",
      "i =  70\n",
      "i =  71\n",
      "i =  72\n",
      "i =  73\n",
      "https://www.gezginler.net/indir/resim-grafik/adsfix-1484733715.png\n",
      "Forbidden\n",
      "i =  74\n",
      "i =  75\n",
      "https://thumbor.kenhub.com/bi0Z7arv90rgGWigvSDdINxY3Fk=/fit-in/800x1600/filters:watermark(/images/logo_url.png,-10,-10,0)/images/library/4579/eEsfu70EOMx1TlBf5tYAiA_Go0bFvBvzClwSivuaiELg_head_01.png\n",
      "Forbidden\n",
      "i =  76\n",
      "i =  77\n",
      "i =  78\n",
      "i =  79\n",
      "i =  80\n",
      "i =  81\n",
      "i =  82\n",
      "i =  83\n",
      "i =  84\n",
      "i =  85\n",
      "i =  86\n",
      "i =  87\n",
      "http://lghttp.46146.nexcesscdn.net/801BE3A/magento/media/catalog/product/cache/1/image/9df78eab33525d08d6e5fb8d27136e95/f/l/fli22315-1web_2.jpg\n",
      "[Errno 8] nodename nor servname provided, or not known\n",
      "i =  88\n",
      "i =  89\n",
      "i =  90\n",
      "i =  91\n",
      "i =  92\n",
      "i =  93\n",
      "i =  94\n",
      "i =  95\n",
      "i =  96\n",
      "i =  97\n",
      "i =  98\n",
      "i =  99\n",
      "i =  100\n",
      "i =  101\n",
      "i =  102\n",
      "i =  103\n",
      "i =  104\n",
      "i =  105\n",
      "i =  106\n",
      "i =  107\n",
      "i =  108\n",
      "i =  109\n",
      "i =  110\n"
     ]
    }
   ],
   "source": [
    "\n",
    "i = 0\n",
    "for d in data2:\n",
    "    print(\"i = \",i)\n",
    "    i +=1\n",
    "    url = d['url']\n",
    "    #if i>82:\n",
    "    write_img_to_file(url, 'downloaded_images_2')"
   ]
  },
  {
   "cell_type": "code",
   "execution_count": null,
   "metadata": {},
   "outputs": [],
   "source": []
  }
 ],
 "metadata": {
  "kernelspec": {
   "display_name": "Python 3",
   "language": "python",
   "name": "python3"
  },
  "language_info": {
   "codemirror_mode": {
    "name": "ipython",
    "version": 3
   },
   "file_extension": ".py",
   "mimetype": "text/x-python",
   "name": "python",
   "nbconvert_exporter": "python",
   "pygments_lexer": "ipython3",
   "version": "3.7.0"
  }
 },
 "nbformat": 4,
 "nbformat_minor": 2
}
